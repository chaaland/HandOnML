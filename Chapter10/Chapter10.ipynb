{
 "cells": [
  {
   "cell_type": "markdown",
   "metadata": {},
   "source": [
    "**2. Why is it generally preferable to use a Logistic Regression classifier rather than a classical Perceptron (i.e., a single layer of threshold logic units trained using the Perceptron training algorithm)? How can you tweak a Perceptron to make it equivalent to a Logistic Regression classifier?**"
   ]
  },
  {
   "cell_type": "markdown",
   "metadata": {},
   "source": [
    "Logistic regression can assign probabilities giving an indication of the confidence of the prediction. The perceptron need only change the activation function from step to sigmoid and change the learning to use gradient descent."
   ]
  },
  {
   "cell_type": "markdown",
   "metadata": {},
   "source": [
    "**3. Why was the logistic activation function a key ingredient in training the first MLPs?**"
   ]
  },
  {
   "cell_type": "markdown",
   "metadata": {},
   "source": [
    "The logistic activation is differentiable and thus allowed gradient based learning"
   ]
  },
  {
   "cell_type": "markdown",
   "metadata": {},
   "source": [
    "**4. Name three popular activation functions.**"
   ]
  },
  {
   "cell_type": "markdown",
   "metadata": {},
   "source": [
    "Sigmoid, hyperbolic tangent, and rectified linear units are some of the most common activations"
   ]
  },
  {
   "cell_type": "markdown",
   "metadata": {},
   "source": [
    "**5. Suppose you have an MLP composed of one input layer with 10 passthrough neurons, followed by one hidden layer with 50 artificial neurons, and finally one output layer with 3 artificial neurons. All artificial neurons use the ReLU activation function.**\n",
    "\n",
    "- What is the shape of the input matrix $\\mathbf{X}$?\n",
    "- What about the shape of the hidden layer’s weight vector $\\mathbf{W}_h$, and the shape of its bias vector $\\mathbf{b}_h$?\n",
    "- What is the shape of the output layer’s weight vector $\\mathbf{W}_o$, and its bias vector $\\mathbf{b}_o$?\n",
    "- What is the shape of the network’s output matrix $\\mathbf{Y}$?\n",
    "- Write the equation that computes the network’s output matrix $\\mathbf{Y}$ as a function of $\\mathbf{X}$, $\\mathbf{W}_h$, $\\mathbf{W}_h$, $\\mathbf{b}_h$, $\\mathbf{W}_o$ and $\\mathbf{b}_o$."
   ]
  },
  {
   "cell_type": "markdown",
   "metadata": {},
   "source": [
    "- $\\mathbf{X} \\in \\mathbf{R}^{10}$\n",
    "- $\\mathbf{W}_h \\in \\mathbf{R}^{50 \\times 10}$ and $\\mathbf{b}_h \\in \\mathbf{R}^{50}$\n",
    "- $\\mathbf{W}_o \\in \\mathbf{R}^{3 \\times 10}$ and $\\mathbf{b}_o \\in \\mathbf{R}^{3}$\n",
    "- $\\mathbf{Y} \\in \\mathbf{R}^{3}$\n",
    "- $\\mathbf{Y} = \\mathbf{W}_o\\text{relu}\\left(\\mathbf{W}_h\\mathbf{X} + \\mathbf{b}_h\\right) + \\mathbf{b}_o$"
   ]
  },
  {
   "cell_type": "markdown",
   "metadata": {},
   "source": [
    "**6. How many neurons do you need in the output layer if you want to classify email into spam or ham? What activation function should you use in the output layer? If instead you want to tackle MNIST, how many neurons do you need in the output layer, using what activation function?**"
   ]
  },
  {
   "cell_type": "markdown",
   "metadata": {},
   "source": [
    "You will most likely use the number of classes as the number of output nodes. Theoretically could get away with one less"
   ]
  },
  {
   "cell_type": "markdown",
   "metadata": {},
   "source": [
    "**7. What is backpropagation and how does it work? What is the difference between backpropagation and reverse-mode autodiff?**"
   ]
  },
  {
   "cell_type": "markdown",
   "metadata": {},
   "source": [
    "Backpropagation is gradient descent with reverse mode differentiation. Originally it was a conceived as a way of sending the error of the output back through the network to adjust the weights so as to better predict the correct output for that example"
   ]
  },
  {
   "cell_type": "markdown",
   "metadata": {},
   "source": [
    "**8. Can you list all the hyperparameters you can tweak in an MLP? If the MLP overfits the training data, how could you tweak these hyperparameters to try to solve the problem?**"
   ]
  },
  {
   "cell_type": "markdown",
   "metadata": {},
   "source": [
    "The main hyperparameters to tune are the learning rate, the numebr of epochs of training, the size of the minibatches in SGD, and the regularization penalty. Overfitting can be ameliorated by early stopping when the error on some validation set starts increasing."
   ]
  },
  {
   "cell_type": "markdown",
   "metadata": {},
   "source": [
    "**9. Train a deep MLP on the MNIST dataset and see if you can get over 98% precision. Just like in the last exercise of Chapter 9, try adding all the bells and whistles (i.e., save checkpoints, restore the last checkpoint in case of an interruption, add summaries, plot learning curves using TensorBoard, and so on).**"
   ]
  },
  {
   "cell_type": "code",
   "execution_count": 1,
   "metadata": {},
   "outputs": [],
   "source": [
    "import os\n",
    "import tensorflow as tf\n",
    "import numpy as np\n",
    "import matplotlib.pyplot as plt\n",
    "\n",
    "%matplotlib notebook"
   ]
  },
  {
   "cell_type": "code",
   "execution_count": 2,
   "metadata": {},
   "outputs": [
    {
     "name": "stdout",
     "output_type": "stream",
     "text": [
      "WARNING:tensorflow:From <ipython-input-2-a98a59d50265>:4: read_data_sets (from tensorflow.contrib.learn.python.learn.datasets.mnist) is deprecated and will be removed in a future version.\n",
      "Instructions for updating:\n",
      "Please use alternatives such as official/mnist/dataset.py from tensorflow/models.\n",
      "WARNING:tensorflow:From /Users/chaaland/miniconda3/envs/HandsOnML/lib/python3.6/site-packages/tensorflow/contrib/learn/python/learn/datasets/mnist.py:260: maybe_download (from tensorflow.contrib.learn.python.learn.datasets.base) is deprecated and will be removed in a future version.\n",
      "Instructions for updating:\n",
      "Please write your own downloading logic.\n",
      "WARNING:tensorflow:From /Users/chaaland/miniconda3/envs/HandsOnML/lib/python3.6/site-packages/tensorflow/contrib/learn/python/learn/datasets/mnist.py:262: extract_images (from tensorflow.contrib.learn.python.learn.datasets.mnist) is deprecated and will be removed in a future version.\n",
      "Instructions for updating:\n",
      "Please use tf.data to implement this functionality.\n",
      "Extracting data/fashion/train-images-idx3-ubyte.gz\n",
      "WARNING:tensorflow:From /Users/chaaland/miniconda3/envs/HandsOnML/lib/python3.6/site-packages/tensorflow/contrib/learn/python/learn/datasets/mnist.py:267: extract_labels (from tensorflow.contrib.learn.python.learn.datasets.mnist) is deprecated and will be removed in a future version.\n",
      "Instructions for updating:\n",
      "Please use tf.data to implement this functionality.\n",
      "Extracting data/fashion/train-labels-idx1-ubyte.gz\n",
      "Extracting data/fashion/t10k-images-idx3-ubyte.gz\n",
      "Extracting data/fashion/t10k-labels-idx1-ubyte.gz\n",
      "WARNING:tensorflow:From /Users/chaaland/miniconda3/envs/HandsOnML/lib/python3.6/site-packages/tensorflow/contrib/learn/python/learn/datasets/mnist.py:290: DataSet.__init__ (from tensorflow.contrib.learn.python.learn.datasets.mnist) is deprecated and will be removed in a future version.\n",
      "Instructions for updating:\n",
      "Please use alternatives such as official/mnist/dataset.py from tensorflow/models.\n"
     ]
    }
   ],
   "source": [
    "from tensorflow.examples.tutorials.mnist import input_data\n",
    "fashion_mnist = input_data.read_data_sets(\n",
    "    \"data/fashion\", \n",
    "    source_url=\"http://fashion-mnist.s3-website.eu-central-1.amazonaws.com/\"\n",
    ")\n",
    "\n",
    "m = 28\n",
    "n = 28\n",
    "num_classes = 10\n",
    "\n",
    "class_to_label ={\n",
    "    0: \"T-shirt/top\",\n",
    "    1: \"Trouser\",\n",
    "    2: \"Pullover\",\n",
    "    3: \"Dress\",\n",
    "    4: \"Coat\",\n",
    "    5: \"Sandal\",\n",
    "    6: \"Shirt\",\n",
    "    7: \"Sneaker\",\n",
    "    8: \"Bag\",\n",
    "    9: \"Ankle boot\",\n",
    "}"
   ]
  },
  {
   "cell_type": "code",
   "execution_count": 3,
   "metadata": {},
   "outputs": [
    {
     "data": {
      "image/png": "[encoded data removed]",
      "text/plain": [
       "<Figure size 1080x720 with 21 Axes>"
      ]
     },
     "metadata": {
      "needs_background": "light"
     },
     "output_type": "display_data"
    }
   ],
   "source": [
    "num_sample_images = 21\n",
    "sample_images, sample_labels = fashion_mnist.train.next_batch(num_sample_images)\n",
    "\n",
    "c = 5\n",
    "r = np.ceil(num_sample_images / c)\n",
    "\n",
    "plt.figure(figsize=(15,10));\n",
    "for i in range(num_sample_images):\n",
    "    plt.subplot(r,c,i+1);\n",
    "    plt.imshow(sample_images[i].reshape(m,n), cmap=\"Greys_r\");\n",
    "    plt.axis(\"off\")"
   ]
  },
  {
   "cell_type": "code",
   "execution_count": 11,
   "metadata": {},
   "outputs": [
    {
     "name": "stdout",
     "output_type": "stream",
     "text": [
      "No saved HyperOpt Trials object found. Starting from scratch\n",
      "Extracting data/fashion/train-images-idx3-ubyte.gz\n",
      "Extracting data/fashion/train-labels-idx1-ubyte.gz\n",
      "Extracting data/fashion/t10k-images-idx3-ubyte.gz\n",
      "Extracting data/fashion/t10k-labels-idx1-ubyte.gz\n",
      "--------------------------------------------------\n",
      "MLflow Run ID: c3f4dc5db22843c4bb5dad55c9d05162\n",
      "--------------------------------------------------\n",
      "  0%|          | 0/25 [00:00<?, ?it/s, best loss: ?]WARNING:tensorflow:From /Users/chaaland/Documents/Learning/HandsOnMachineLearning/Chapter10/ann_training.py:32: dense (from tensorflow.python.layers.core) is deprecated and will be removed in a future version.\n",
      "Instructions for updating:\n",
      "Use keras.layers.dense instead.\n",
      "WARNING:tensorflow:From /Users/chaaland/miniconda3/envs/HandsOnML/lib/python3.6/site-packages/tensorflow/python/framework/op_def_library.py:263: colocate_with (from tensorflow.python.framework.ops) is deprecated and will be removed in a future version.\n",
      "Instructions for updating:\n",
      "Colocations handled automatically by placer.\n",
      "--------------------------------------------------\n",
      "MLflow Run ID: 9f1c914c9e494229a3b07268d061ff23\n",
      "--------------------------------------------------\n",
      "--------------------------------------------------\n",
      "MLflow Run ID: e5b55f00e54b4dcab726b622fa4cd4ce\n",
      "--------------------------------------------------\n",
      "--------------------------------------------------\n",
      "MLflow Run ID: ca1a705d2ef540ec866ebd8b37b7d303\n",
      "--------------------------------------------------\n",
      "--------------------------------------------------\n",
      "MLflow Run ID: f7b8e1f272fc45179e5263244759ebb3\n",
      "--------------------------------------------------\n",
      "--------------------------------------------------\n",
      "MLflow Run ID: 292552b2de3f4701844af79c6b32f046\n",
      "--------------------------------------------------\n",
      "--------------------------------------------------\n",
      "MLflow Run ID: 57973545da41497c9d3acf0277f862c1\n",
      "--------------------------------------------------\n",
      "--------------------------------------------------\n",
      "MLflow Run ID: 09e10f8608c64a48bc61fd626e6ce3a3\n",
      "--------------------------------------------------\n",
      "--------------------------------------------------\n",
      "MLflow Run ID: 4b7c7c09ef194265afe655027132d93b\n",
      "--------------------------------------------------\n",
      "--------------------------------------------------\n",
      "MLflow Run ID: 7375c2ab5c744adcb76baaf985902fc5\n",
      "--------------------------------------------------\n",
      "--------------------------------------------------\n",
      "MLflow Run ID: ed352457fb9f4d6e9810c946d9b46d5e\n",
      "--------------------------------------------------\n",
      "--------------------------------------------------\n",
      "MLflow Run ID: a441bab24d4d4438a89aca3e0d9c4b6f\n",
      "--------------------------------------------------\n",
      "--------------------------------------------------\n",
      "MLflow Run ID: 4e27f74b2b4141678c80a6fcb8010e76\n",
      "--------------------------------------------------\n",
      "--------------------------------------------------\n",
      "MLflow Run ID: 8d1c70b9ec744ae6aaa8df44b22ca740\n",
      "--------------------------------------------------\n",
      "--------------------------------------------------\n",
      "MLflow Run ID: 1d8c41b68c7147a7899a8590551b459d\n",
      "--------------------------------------------------\n",
      "--------------------------------------------------\n",
      "MLflow Run ID: 6615f49c46fc484ba1dff16d47db9bcc\n",
      "--------------------------------------------------\n",
      "--------------------------------------------------\n",
      "MLflow Run ID: 02d5ad5742f641ee871965d55a42f606\n",
      "--------------------------------------------------\n",
      "--------------------------------------------------\n",
      "MLflow Run ID: ff580f23356d4dc8a3df276db7542894\n",
      "--------------------------------------------------\n",
      "--------------------------------------------------\n",
      "MLflow Run ID: 52f228f473b64dd882f1ef17c6030ab4\n",
      "--------------------------------------------------\n",
      "--------------------------------------------------\n",
      "MLflow Run ID: 555feeb77a1c413196c55bdf7429a7fb\n",
      "--------------------------------------------------\n",
      "--------------------------------------------------\n",
      "MLflow Run ID: 2a1b5c58d848443aae51553de14cef92\n",
      "--------------------------------------------------\n",
      "--------------------------------------------------\n",
      "MLflow Run ID: d1e6698c566a4208ba762f955dd9b4e7\n",
      "--------------------------------------------------\n",
      "--------------------------------------------------\n",
      "MLflow Run ID: 31ba28e3f1be471cbcc917ac1082b1f3\n",
      "--------------------------------------------------\n",
      "--------------------------------------------------\n",
      "MLflow Run ID: 4d615f79f4bf43a99e57fdc07e604d55\n",
      "--------------------------------------------------\n",
      "--------------------------------------------------\n",
      "MLflow Run ID: 8304cd341dac436e854134615c01b743\n",
      "--------------------------------------------------\n",
      "100%|██████████| 25/25 [51:54<00:00, 94.99s/it, best loss: -0.8962000012397766]\n",
      "Best accuracy: 0.8962000012397766\n"
     ]
    },
    {
     "ename": "AttributeError",
     "evalue": "'dict' object has no attribute 'best_trial'",
     "output_type": "error",
     "traceback": [
      "\u001b[0;31m---------------------------------------------------------------------------\u001b[0m",
      "\u001b[0;31mAttributeError\u001b[0m                            Traceback (most recent call last)",
      "\u001b[0;32m~/Documents/Learning/HandsOnMachineLearning/Chapter10/ann_param_search.py\u001b[0m in \u001b[0;36m<module>\u001b[0;34m\u001b[0m\n\u001b[1;32m     61\u001b[0m     \u001b[0margs\u001b[0m \u001b[0;34m=\u001b[0m \u001b[0mparser\u001b[0m\u001b[0;34m.\u001b[0m\u001b[0mparse_args\u001b[0m\u001b[0;34m(\u001b[0m\u001b[0;34m)\u001b[0m\u001b[0;34m\u001b[0m\u001b[0;34m\u001b[0m\u001b[0m\n\u001b[1;32m     62\u001b[0m \u001b[0;34m\u001b[0m\u001b[0m\n\u001b[0;32m---> 63\u001b[0;31m     \u001b[0mmain\u001b[0m\u001b[0;34m(\u001b[0m\u001b[0margs\u001b[0m\u001b[0;34m)\u001b[0m\u001b[0;34m\u001b[0m\u001b[0;34m\u001b[0m\u001b[0m\n\u001b[0m",
      "\u001b[0;32m~/Documents/Learning/HandsOnMachineLearning/Chapter10/ann_param_search.py\u001b[0m in \u001b[0;36mmain\u001b[0;34m(args)\u001b[0m\n\u001b[1;32m     51\u001b[0m     \u001b[0mbest_acc\u001b[0m \u001b[0;34m=\u001b[0m \u001b[0mmax\u001b[0m\u001b[0;34m(\u001b[0m\u001b[0;34m-\u001b[0m\u001b[0mtrial_data\u001b[0m\u001b[0;34m[\u001b[0m\u001b[0;34m\"result\"\u001b[0m\u001b[0;34m]\u001b[0m\u001b[0;34m[\u001b[0m\u001b[0;34m\"loss\"\u001b[0m\u001b[0;34m]\u001b[0m \u001b[0;32mfor\u001b[0m \u001b[0mtrial_data\u001b[0m \u001b[0;32min\u001b[0m \u001b[0mtrials\u001b[0m\u001b[0;34m.\u001b[0m\u001b[0mtrials\u001b[0m\u001b[0;34m)\u001b[0m\u001b[0;34m\u001b[0m\u001b[0;34m\u001b[0m\u001b[0m\n\u001b[1;32m     52\u001b[0m     \u001b[0mprint\u001b[0m\u001b[0;34m(\u001b[0m\u001b[0;34mf\"Best accuracy: {best_acc}\"\u001b[0m\u001b[0;34m)\u001b[0m\u001b[0;34m\u001b[0m\u001b[0;34m\u001b[0m\u001b[0m\n\u001b[0;32m---> 53\u001b[0;31m     \u001b[0mprint\u001b[0m\u001b[0;34m(\u001b[0m\u001b[0;34mf\"Best Trial: {best.best_trial}\"\u001b[0m\u001b[0;34m,\u001b[0m \u001b[0mflush\u001b[0m\u001b[0;34m=\u001b[0m\u001b[0;32mTrue\u001b[0m\u001b[0;34m)\u001b[0m\u001b[0;34m\u001b[0m\u001b[0;34m\u001b[0m\u001b[0m\n\u001b[0m\u001b[1;32m     54\u001b[0m \u001b[0;34m\u001b[0m\u001b[0m\n\u001b[1;32m     55\u001b[0m \u001b[0;34m\u001b[0m\u001b[0m\n",
      "\u001b[0;31mAttributeError\u001b[0m: 'dict' object has no attribute 'best_trial'"
     ]
    }
   ],
   "source": [
    "%run ann_param_search.py --n-trials 25"
   ]
  },
  {
   "cell_type": "code",
   "execution_count": null,
   "metadata": {},
   "outputs": [],
   "source": []
  }
 ],
 "metadata": {
  "kernelspec": {
   "display_name": "Python 3",
   "language": "python",
   "name": "python3"
  },
  "language_info": {
   "codemirror_mode": {
    "name": "ipython",
    "version": 3
   },
   "file_extension": ".py",
   "mimetype": "text/x-python",
   "name": "python",
   "nbconvert_exporter": "python",
   "pygments_lexer": "ipython3",
   "version": "3.6.8"
  }
 },
 "nbformat": 4,
 "nbformat_minor": 2
}
